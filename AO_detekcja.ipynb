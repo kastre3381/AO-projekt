{
 "cells": [
  {
   "cell_type": "code",
   "execution_count": 11,
   "metadata": {},
   "outputs": [],
   "source": [
    "import cv2\n",
    "import matplotlib.pyplot as plt\n",
    "import numpy as np\n",
    "import imutils\n",
    "import easyocr"
   ]
  },
  {
   "cell_type": "code",
   "execution_count": 12,
   "metadata": {},
   "outputs": [],
   "source": [
    "def TextDetection(platepath : str) :\n",
    "\treader = easyocr.Reader(['en'])\n",
    "\timg = cv2.imread(platepath)\n",
    "\tresults = reader.readtext(img)\n",
    "\tplate_number = \"\"\n",
    "\tfor res in results:\n",
    "\t\tletter = res[1]\n",
    "\t\tplate_number += letter\n",
    "\treturn plate_number"
   ]
  },
  {
   "cell_type": "code",
   "execution_count": 13,
   "metadata": {},
   "outputs": [],
   "source": [
    "def ObjectFinder(bin_img, real_img) :\n",
    "\tobjects_list = cv2.findContours(bin_img, cv2.RETR_TREE, cv2.CHAIN_APPROX_NONE)\n",
    "\tparents_idx_list = [objects_list[1][0][i][3] for i in range(0, len(objects_list[1][0])) if objects_list[1][0][i][3] != -1]\n",
    "\tparents_idx_list = np.unique(np.array(parents_idx_list)).tolist()\n",
    "\tcounter = 0\n",
    "\tpath_list = []\n",
    "\tfor idx in parents_idx_list :\n",
    "\t\tperimeter = cv2.arcLength(objects_list[0][idx], True)\n",
    "\t\tpolygon = cv2.approxPolyDP(objects_list[0][idx], 10, True)\n",
    "\t\tif len(polygon) == 4 :\n",
    "\t\t\tmask1 = np.zeros(bin_img.shape, np.uint8)\n",
    "\t\t\tcv2.fillConvexPoly(mask1, objects_list[0][idx], 255)\n",
    "\t\t\tx, y, w, h = cv2.boundingRect(objects_list[0][idx])\n",
    "\t\t\tcropped = cv2.bitwise_and(real_img, real_img, mask = mask1)[y:y+h, x:x+w]\n",
    "\t\t\tcv2.imwrite(\"cropped_results/\" + str(counter) + \".png\", cropped)\n",
    "\t\t\tpath_list.append(\"cropped_results/\" + str(counter) + \".png\")\n",
    "\t\t\tcounter += 1\n",
    "\treturn path_list"
   ]
  },
  {
   "cell_type": "code",
   "execution_count": 14,
   "metadata": {},
   "outputs": [],
   "source": [
    "def Method1(gray_img) :\n",
    "\tgray_img_filtered = cv2.bilateralFilter(gray_img, -1, 20, 20)\n",
    "\tthreshold_from_otsu, bin_tozero_img = cv2.threshold(gray_img_filtered, 0, 255, cv2.THRESH_TOZERO + cv2.THRESH_OTSU)\n",
    "\treturn cv2.adaptiveThreshold(bin_tozero_img, 255, cv2.ADAPTIVE_THRESH_GAUSSIAN_C, cv2.THRESH_BINARY_INV, 3, 4)"
   ]
  },
  {
   "cell_type": "code",
   "execution_count": 15,
   "metadata": {},
   "outputs": [],
   "source": [
    "def Method2(gray_img) :\n",
    "\tgray_img_filtered = cv2.bilateralFilter(gray_img, -1, 20, 20)\n",
    "\tthreshold_from_otsu, bin_tozero_img = cv2.threshold(gray_img_filtered, 0, 255, cv2.THRESH_TOZERO + cv2.THRESH_OTSU)\n",
    "\treturn cv2.Canny(gray_img_filtered, threshold_from_otsu / 2, threshold_from_otsu)"
   ]
  },
  {
   "cell_type": "code",
   "execution_count": 16,
   "metadata": {},
   "outputs": [],
   "source": [
    "def Method3(gray_img) :\n",
    "\tgray_img_filtered = cv2.bilateralFilter(gray_img, -1, 20, 20)\n",
    "\treturn cv2.Laplacian(gray_img_filtered, -1)"
   ]
  },
  {
   "cell_type": "code",
   "execution_count": 17,
   "metadata": {},
   "outputs": [],
   "source": [
    "def PlateDetection(imagepath : str, Method) :\n",
    "\timg = cv2.imread(imagepath)\n",
    "\tresult = Method(cv2.cvtColor(img, cv2.COLOR_RGB2GRAY))\n",
    "\tpath_list = ObjectFinder(result, img)\n",
    "\tfor path in path_list :\n",
    "\t\tplate_number = TextDetection(path)\n",
    "\t\tif len(plate_number) != 0 :\n",
    "\t\t\treturn plate_number\n",
    "\treturn \"\"\n",
    "\t"
   ]
  },
  {
   "cell_type": "code",
   "execution_count": 18,
   "metadata": {},
   "outputs": [],
   "source": [
    "# for i in range(14):\n",
    "# \tresult = PlateDetection(\"images/\" + str(i) + \".png\", Method1)\n",
    "# \tif len(result) == 0 :\n",
    "# \t\tresult = PlateDetection(\"images/\" + str(i) + \".png\", Method2)\n",
    "# \tif len(result) == 0 :\n",
    "# \t\tresult = PlateDetection(\"images/\" + str(i) + \".png\", Method3)\n",
    "\n",
    "# \tprint(result)"
   ]
  },
  {
   "cell_type": "code",
   "execution_count": 1,
   "metadata": {},
   "outputs": [
    {
     "name": "stderr",
     "output_type": "stream",
     "text": [
      "Exception in Tkinter callback\n",
      "Traceback (most recent call last):\n",
      "  File \"/home/jakub/anaconda3/envs/pite/lib/python3.9/tkinter/__init__.py\", line 1892, in __call__\n",
      "    return self.func(*args)\n",
      "  File \"/tmp/ipykernel_358/65765268.py\", line 30, in browseFiles\n",
      "    PlateToText(filename)\n",
      "  File \"/tmp/ipykernel_358/65765268.py\", line 15, in PlateToText\n",
      "    result = PlateDetection(filename, Method1)\n",
      "NameError: name 'PlateDetection' is not defined\n",
      "Exception in Tkinter callback\n",
      "Traceback (most recent call last):\n",
      "  File \"/home/jakub/anaconda3/envs/pite/lib/python3.9/tkinter/__init__.py\", line 1892, in __call__\n",
      "    return self.func(*args)\n",
      "  File \"/tmp/ipykernel_358/65765268.py\", line 30, in browseFiles\n",
      "    PlateToText(filename)\n",
      "  File \"/tmp/ipykernel_358/65765268.py\", line 15, in PlateToText\n",
      "    result = PlateDetection(filename, Method1)\n",
      "NameError: name 'PlateDetection' is not defined\n",
      "Exception in Tkinter callback\n",
      "Traceback (most recent call last):\n",
      "  File \"/home/jakub/anaconda3/envs/pite/lib/python3.9/tkinter/__init__.py\", line 1892, in __call__\n",
      "    return self.func(*args)\n",
      "  File \"/tmp/ipykernel_358/65765268.py\", line 30, in browseFiles\n",
      "    PlateToText(filename)\n",
      "  File \"/tmp/ipykernel_358/65765268.py\", line 15, in PlateToText\n",
      "    result = PlateDetection(filename, Method1)\n",
      "NameError: name 'PlateDetection' is not defined\n"
     ]
    }
   ],
   "source": [
    "from Detection import *\n",
    "\n",
    "import os\n",
    "import tkinter as tk\n",
    "from tkinter import *\n",
    "from tkinter import ttk\n",
    "from tkinter import filedialog\n",
    "\n",
    "def LoadImage(filepath : str):\n",
    "\timage = PhotoImage(file=filepath, master=imgframe)\n",
    "\tloaded_image = ttk.Label(imgframe)\n",
    "\tloaded_image.configure(image=image)\n",
    "\tloaded_image.image = image\n",
    "\tloaded_image.grid(column=0, row=0, sticky=\"nsew\")\n",
    "\n",
    "def PlateToText(filename : str):\n",
    "\tresult = PlateDetection(filename, Method1)\n",
    "\tif len(result) == 0 :\n",
    "\t\tresult = PlateDetection(filename, Method2)\n",
    "\tif len(result) == 0 :\n",
    "\t\tresult = PlateDetection(filename, Method3)\n",
    "\tif len(result) == 0 :\n",
    "\t\tresult = \"nie znaleziono\"\n",
    "\toutput = tk.Label(menuframe).grid(column=1, row=1)\n",
    "\toutput['text'] = result\n",
    "\n",
    "def browseFiles():\n",
    "\tfilename = tk.filedialog.askopenfilename(initialdir = os.getcwd(),\n",
    "\t\t\t\t\t\t\t\t\t\ttitle = \"Select an Image\",\n",
    "\t\t\t\t\t\t\t\t\t\tfiletypes = [(\"Images\", \"*.png\")])\n",
    "\tLoadImage(filename)\n",
    "\tPlateToText(filename)\n",
    "\n",
    "root = Tk()\n",
    "root.title(\"Licence Plate Recognition\")\n",
    "root.resizable(False, False)\n",
    "root.geometry(\"800x600\")\n",
    "\n",
    "mainframe = ttk.Frame(root)\n",
    "mainframe.grid()\n",
    "imgframe = ttk.Frame(mainframe, borderwidth=1, relief=\"groove\", width=800, height=480)\n",
    "imgframe.grid(column=0, row=0)\n",
    "imgframe.grid_rowconfigure(0, weight=1)\n",
    "imgframe.grid_columnconfigure(0, weight=1)\n",
    "imgframe.grid_propagate(False)\n",
    "\n",
    "spacing = ttk.Frame(mainframe, width=800, height=20).grid(column=0, row=1)\n",
    "\n",
    "menuframe = ttk.Frame(mainframe, borderwidth=1, relief=\"groove\", width=800, height=100, padding=\"3 3 3 3\")\n",
    "menuframe.grid(column=0, row=2)\n",
    "# menuframe.grid_rowconfigure(0, weight=1)\n",
    "menuframe.grid_columnconfigure(1, weight=1)\n",
    "menuframe.grid_propagate(False)\n",
    "\n",
    "tk.Button(menuframe, text=\"Load image\", height=7, command=browseFiles).grid(column=0, row=0, rowspan = 2)\n",
    "plate_label = tk.Label(menuframe, text='Recognised plate number:').grid(column=1, row=0)\n",
    "\n",
    "root.mainloop()"
   ]
  }
 ],
 "metadata": {
  "kernelspec": {
   "display_name": "pite",
   "language": "python",
   "name": "python3"
  },
  "language_info": {
   "codemirror_mode": {
    "name": "ipython",
    "version": 3
   },
   "file_extension": ".py",
   "mimetype": "text/x-python",
   "name": "python",
   "nbconvert_exporter": "python",
   "pygments_lexer": "ipython3",
   "version": "3.9.13"
  }
 },
 "nbformat": 4,
 "nbformat_minor": 2
}
