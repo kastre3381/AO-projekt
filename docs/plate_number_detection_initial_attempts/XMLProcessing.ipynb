{
 "cells": [
  {
   "cell_type": "code",
   "execution_count": 5,
   "id": "initial_id",
   "metadata": {
    "collapsed": true,
    "ExecuteTime": {
     "end_time": "2023-12-28T21:59:06.488845600Z",
     "start_time": "2023-12-28T21:59:06.480571200Z"
    }
   },
   "outputs": [],
   "source": [
    "import pandas as pd\n",
    "import xml.etree.ElementTree as xet"
   ]
  },
  {
   "cell_type": "code",
   "execution_count": 3,
   "outputs": [],
   "source": [
    "from glob import glob"
   ],
   "metadata": {
    "collapsed": false,
    "ExecuteTime": {
     "end_time": "2023-12-28T21:59:00.767743Z",
     "start_time": "2023-12-28T21:59:00.760598200Z"
    }
   },
   "id": "e48ae139585d1641"
  },
  {
   "cell_type": "code",
   "execution_count": 8,
   "outputs": [
    {
     "name": "stdout",
     "output_type": "stream",
     "text": [
      "['data\\\\annotations\\\\Cars0.xml', 'data\\\\annotations\\\\Cars1.xml', 'data\\\\annotations\\\\Cars10.xml', 'data\\\\annotations\\\\Cars100.xml', 'data\\\\annotations\\\\Cars101.xml', 'data\\\\annotations\\\\Cars102.xml', 'data\\\\annotations\\\\Cars103.xml', 'data\\\\annotations\\\\Cars104.xml', 'data\\\\annotations\\\\Cars105.xml', 'data\\\\annotations\\\\Cars106.xml', 'data\\\\annotations\\\\Cars107.xml', 'data\\\\annotations\\\\Cars108.xml', 'data\\\\annotations\\\\Cars109.xml', 'data\\\\annotations\\\\Cars11.xml', 'data\\\\annotations\\\\Cars110.xml', 'data\\\\annotations\\\\Cars111.xml', 'data\\\\annotations\\\\Cars112.xml', 'data\\\\annotations\\\\Cars113.xml', 'data\\\\annotations\\\\Cars114.xml', 'data\\\\annotations\\\\Cars115.xml', 'data\\\\annotations\\\\Cars116.xml', 'data\\\\annotations\\\\Cars117.xml', 'data\\\\annotations\\\\Cars118.xml', 'data\\\\annotations\\\\Cars119.xml', 'data\\\\annotations\\\\Cars12.xml', 'data\\\\annotations\\\\Cars120.xml', 'data\\\\annotations\\\\Cars121.xml', 'data\\\\annotations\\\\Cars122.xml', 'data\\\\annotations\\\\Cars123.xml', 'data\\\\annotations\\\\Cars124.xml', 'data\\\\annotations\\\\Cars125.xml', 'data\\\\annotations\\\\Cars126.xml', 'data\\\\annotations\\\\Cars127.xml', 'data\\\\annotations\\\\Cars128.xml', 'data\\\\annotations\\\\Cars129.xml', 'data\\\\annotations\\\\Cars13.xml', 'data\\\\annotations\\\\Cars130.xml', 'data\\\\annotations\\\\Cars131.xml', 'data\\\\annotations\\\\Cars132.xml', 'data\\\\annotations\\\\Cars133.xml', 'data\\\\annotations\\\\Cars134.xml', 'data\\\\annotations\\\\Cars135.xml', 'data\\\\annotations\\\\Cars136.xml', 'data\\\\annotations\\\\Cars137.xml', 'data\\\\annotations\\\\Cars138.xml', 'data\\\\annotations\\\\Cars139.xml', 'data\\\\annotations\\\\Cars14.xml', 'data\\\\annotations\\\\Cars140.xml', 'data\\\\annotations\\\\Cars141.xml', 'data\\\\annotations\\\\Cars142.xml', 'data\\\\annotations\\\\Cars143.xml', 'data\\\\annotations\\\\Cars144.xml', 'data\\\\annotations\\\\Cars145.xml', 'data\\\\annotations\\\\Cars146.xml', 'data\\\\annotations\\\\Cars147.xml', 'data\\\\annotations\\\\Cars148.xml', 'data\\\\annotations\\\\Cars149.xml', 'data\\\\annotations\\\\Cars15.xml', 'data\\\\annotations\\\\Cars150.xml', 'data\\\\annotations\\\\Cars151.xml', 'data\\\\annotations\\\\Cars152.xml', 'data\\\\annotations\\\\Cars153.xml', 'data\\\\annotations\\\\Cars154.xml', 'data\\\\annotations\\\\Cars155.xml', 'data\\\\annotations\\\\Cars156.xml', 'data\\\\annotations\\\\Cars157.xml', 'data\\\\annotations\\\\Cars158.xml', 'data\\\\annotations\\\\Cars159.xml', 'data\\\\annotations\\\\Cars16.xml', 'data\\\\annotations\\\\Cars160.xml', 'data\\\\annotations\\\\Cars161.xml', 'data\\\\annotations\\\\Cars162.xml', 'data\\\\annotations\\\\Cars163.xml', 'data\\\\annotations\\\\Cars164.xml', 'data\\\\annotations\\\\Cars165.xml', 'data\\\\annotations\\\\Cars166.xml', 'data\\\\annotations\\\\Cars167.xml', 'data\\\\annotations\\\\Cars168.xml', 'data\\\\annotations\\\\Cars169.xml', 'data\\\\annotations\\\\Cars17.xml', 'data\\\\annotations\\\\Cars170.xml', 'data\\\\annotations\\\\Cars171.xml', 'data\\\\annotations\\\\Cars172.xml', 'data\\\\annotations\\\\Cars173.xml', 'data\\\\annotations\\\\Cars174.xml', 'data\\\\annotations\\\\Cars175.xml', 'data\\\\annotations\\\\Cars176.xml', 'data\\\\annotations\\\\Cars177.xml', 'data\\\\annotations\\\\Cars178.xml', 'data\\\\annotations\\\\Cars179.xml', 'data\\\\annotations\\\\Cars18.xml', 'data\\\\annotations\\\\Cars180.xml', 'data\\\\annotations\\\\Cars181.xml', 'data\\\\annotations\\\\Cars182.xml', 'data\\\\annotations\\\\Cars183.xml', 'data\\\\annotations\\\\Cars184.xml', 'data\\\\annotations\\\\Cars185.xml', 'data\\\\annotations\\\\Cars186.xml', 'data\\\\annotations\\\\Cars187.xml', 'data\\\\annotations\\\\Cars188.xml', 'data\\\\annotations\\\\Cars189.xml', 'data\\\\annotations\\\\Cars19.xml', 'data\\\\annotations\\\\Cars190.xml', 'data\\\\annotations\\\\Cars191.xml', 'data\\\\annotations\\\\Cars192.xml', 'data\\\\annotations\\\\Cars193.xml', 'data\\\\annotations\\\\Cars194.xml', 'data\\\\annotations\\\\Cars195.xml', 'data\\\\annotations\\\\Cars196.xml', 'data\\\\annotations\\\\Cars197.xml', 'data\\\\annotations\\\\Cars198.xml', 'data\\\\annotations\\\\Cars199.xml', 'data\\\\annotations\\\\Cars2.xml', 'data\\\\annotations\\\\Cars20.xml', 'data\\\\annotations\\\\Cars200.xml', 'data\\\\annotations\\\\Cars201.xml', 'data\\\\annotations\\\\Cars202.xml', 'data\\\\annotations\\\\Cars203.xml', 'data\\\\annotations\\\\Cars204.xml', 'data\\\\annotations\\\\Cars205.xml', 'data\\\\annotations\\\\Cars206.xml', 'data\\\\annotations\\\\Cars207.xml', 'data\\\\annotations\\\\Cars208.xml', 'data\\\\annotations\\\\Cars209.xml', 'data\\\\annotations\\\\Cars21.xml', 'data\\\\annotations\\\\Cars210.xml', 'data\\\\annotations\\\\Cars211.xml', 'data\\\\annotations\\\\Cars212.xml', 'data\\\\annotations\\\\Cars213.xml', 'data\\\\annotations\\\\Cars214.xml', 'data\\\\annotations\\\\Cars215.xml', 'data\\\\annotations\\\\Cars216.xml', 'data\\\\annotations\\\\Cars217.xml', 'data\\\\annotations\\\\Cars218.xml', 'data\\\\annotations\\\\Cars219.xml', 'data\\\\annotations\\\\Cars22.xml', 'data\\\\annotations\\\\Cars220.xml', 'data\\\\annotations\\\\Cars221.xml', 'data\\\\annotations\\\\Cars222.xml', 'data\\\\annotations\\\\Cars223.xml', 'data\\\\annotations\\\\Cars224.xml', 'data\\\\annotations\\\\Cars225.xml', 'data\\\\annotations\\\\Cars226.xml', 'data\\\\annotations\\\\Cars227.xml', 'data\\\\annotations\\\\Cars228.xml', 'data\\\\annotations\\\\Cars229.xml', 'data\\\\annotations\\\\Cars23.xml', 'data\\\\annotations\\\\Cars230.xml', 'data\\\\annotations\\\\Cars231.xml', 'data\\\\annotations\\\\Cars232.xml', 'data\\\\annotations\\\\Cars233.xml', 'data\\\\annotations\\\\Cars234.xml', 'data\\\\annotations\\\\Cars235.xml', 'data\\\\annotations\\\\Cars236.xml', 'data\\\\annotations\\\\Cars237.xml', 'data\\\\annotations\\\\Cars238.xml', 'data\\\\annotations\\\\Cars239.xml', 'data\\\\annotations\\\\Cars24.xml', 'data\\\\annotations\\\\Cars240.xml', 'data\\\\annotations\\\\Cars241.xml', 'data\\\\annotations\\\\Cars242.xml', 'data\\\\annotations\\\\Cars243.xml', 'data\\\\annotations\\\\Cars244.xml', 'data\\\\annotations\\\\Cars245.xml', 'data\\\\annotations\\\\Cars246.xml', 'data\\\\annotations\\\\Cars247.xml', 'data\\\\annotations\\\\Cars248.xml', 'data\\\\annotations\\\\Cars249.xml', 'data\\\\annotations\\\\Cars25.xml', 'data\\\\annotations\\\\Cars250.xml', 'data\\\\annotations\\\\Cars251.xml', 'data\\\\annotations\\\\Cars252.xml', 'data\\\\annotations\\\\Cars253.xml', 'data\\\\annotations\\\\Cars254.xml', 'data\\\\annotations\\\\Cars255.xml', 'data\\\\annotations\\\\Cars256.xml', 'data\\\\annotations\\\\Cars257.xml', 'data\\\\annotations\\\\Cars258.xml', 'data\\\\annotations\\\\Cars259.xml', 'data\\\\annotations\\\\Cars26.xml', 'data\\\\annotations\\\\Cars260.xml', 'data\\\\annotations\\\\Cars261.xml', 'data\\\\annotations\\\\Cars262.xml', 'data\\\\annotations\\\\Cars263.xml', 'data\\\\annotations\\\\Cars264.xml', 'data\\\\annotations\\\\Cars265.xml', 'data\\\\annotations\\\\Cars266.xml', 'data\\\\annotations\\\\Cars267.xml', 'data\\\\annotations\\\\Cars268.xml', 'data\\\\annotations\\\\Cars269.xml', 'data\\\\annotations\\\\Cars27.xml', 'data\\\\annotations\\\\Cars270.xml', 'data\\\\annotations\\\\Cars271.xml', 'data\\\\annotations\\\\Cars272.xml', 'data\\\\annotations\\\\Cars273.xml', 'data\\\\annotations\\\\Cars274.xml', 'data\\\\annotations\\\\Cars275.xml', 'data\\\\annotations\\\\Cars276.xml', 'data\\\\annotations\\\\Cars277.xml', 'data\\\\annotations\\\\Cars278.xml', 'data\\\\annotations\\\\Cars279.xml', 'data\\\\annotations\\\\Cars28.xml', 'data\\\\annotations\\\\Cars280.xml', 'data\\\\annotations\\\\Cars281.xml', 'data\\\\annotations\\\\Cars282.xml', 'data\\\\annotations\\\\Cars283.xml', 'data\\\\annotations\\\\Cars284.xml', 'data\\\\annotations\\\\Cars285.xml', 'data\\\\annotations\\\\Cars286.xml', 'data\\\\annotations\\\\Cars287.xml', 'data\\\\annotations\\\\Cars288.xml', 'data\\\\annotations\\\\Cars289.xml', 'data\\\\annotations\\\\Cars29.xml', 'data\\\\annotations\\\\Cars290.xml', 'data\\\\annotations\\\\Cars291.xml', 'data\\\\annotations\\\\Cars292.xml', 'data\\\\annotations\\\\Cars293.xml', 'data\\\\annotations\\\\Cars294.xml', 'data\\\\annotations\\\\Cars295.xml', 'data\\\\annotations\\\\Cars296.xml', 'data\\\\annotations\\\\Cars297.xml', 'data\\\\annotations\\\\Cars298.xml', 'data\\\\annotations\\\\Cars299.xml', 'data\\\\annotations\\\\Cars3.xml', 'data\\\\annotations\\\\Cars30.xml', 'data\\\\annotations\\\\Cars300.xml', 'data\\\\annotations\\\\Cars301.xml', 'data\\\\annotations\\\\Cars302.xml', 'data\\\\annotations\\\\Cars303.xml', 'data\\\\annotations\\\\Cars304.xml', 'data\\\\annotations\\\\Cars305.xml', 'data\\\\annotations\\\\Cars306.xml', 'data\\\\annotations\\\\Cars307.xml', 'data\\\\annotations\\\\Cars308.xml', 'data\\\\annotations\\\\Cars309.xml', 'data\\\\annotations\\\\Cars31.xml', 'data\\\\annotations\\\\Cars310.xml', 'data\\\\annotations\\\\Cars311.xml', 'data\\\\annotations\\\\Cars312.xml', 'data\\\\annotations\\\\Cars313.xml', 'data\\\\annotations\\\\Cars314.xml', 'data\\\\annotations\\\\Cars315.xml', 'data\\\\annotations\\\\Cars316.xml', 'data\\\\annotations\\\\Cars317.xml', 'data\\\\annotations\\\\Cars318.xml', 'data\\\\annotations\\\\Cars319.xml', 'data\\\\annotations\\\\Cars32.xml', 'data\\\\annotations\\\\Cars320.xml', 'data\\\\annotations\\\\Cars321.xml', 'data\\\\annotations\\\\Cars322.xml', 'data\\\\annotations\\\\Cars323.xml', 'data\\\\annotations\\\\Cars324.xml', 'data\\\\annotations\\\\Cars325.xml', 'data\\\\annotations\\\\Cars326.xml', 'data\\\\annotations\\\\Cars327.xml', 'data\\\\annotations\\\\Cars328.xml', 'data\\\\annotations\\\\Cars329.xml', 'data\\\\annotations\\\\Cars33.xml', 'data\\\\annotations\\\\Cars330.xml', 'data\\\\annotations\\\\Cars331.xml', 'data\\\\annotations\\\\Cars332.xml', 'data\\\\annotations\\\\Cars333.xml', 'data\\\\annotations\\\\Cars334.xml', 'data\\\\annotations\\\\Cars335.xml', 'data\\\\annotations\\\\Cars336.xml', 'data\\\\annotations\\\\Cars337.xml', 'data\\\\annotations\\\\Cars338.xml', 'data\\\\annotations\\\\Cars339.xml', 'data\\\\annotations\\\\Cars34.xml', 'data\\\\annotations\\\\Cars340.xml', 'data\\\\annotations\\\\Cars341.xml', 'data\\\\annotations\\\\Cars342.xml', 'data\\\\annotations\\\\Cars343.xml', 'data\\\\annotations\\\\Cars344.xml', 'data\\\\annotations\\\\Cars345.xml', 'data\\\\annotations\\\\Cars346.xml', 'data\\\\annotations\\\\Cars347.xml', 'data\\\\annotations\\\\Cars348.xml', 'data\\\\annotations\\\\Cars349.xml', 'data\\\\annotations\\\\Cars35.xml', 'data\\\\annotations\\\\Cars350.xml', 'data\\\\annotations\\\\Cars351.xml', 'data\\\\annotations\\\\Cars352.xml', 'data\\\\annotations\\\\Cars353.xml', 'data\\\\annotations\\\\Cars354.xml', 'data\\\\annotations\\\\Cars355.xml', 'data\\\\annotations\\\\Cars356.xml', 'data\\\\annotations\\\\Cars357.xml', 'data\\\\annotations\\\\Cars358.xml', 'data\\\\annotations\\\\Cars359.xml', 'data\\\\annotations\\\\Cars36.xml', 'data\\\\annotations\\\\Cars360.xml', 'data\\\\annotations\\\\Cars361.xml', 'data\\\\annotations\\\\Cars362.xml', 'data\\\\annotations\\\\Cars363.xml', 'data\\\\annotations\\\\Cars364.xml', 'data\\\\annotations\\\\Cars365.xml', 'data\\\\annotations\\\\Cars366.xml', 'data\\\\annotations\\\\Cars367.xml', 'data\\\\annotations\\\\Cars368.xml', 'data\\\\annotations\\\\Cars369.xml', 'data\\\\annotations\\\\Cars37.xml', 'data\\\\annotations\\\\Cars370.xml', 'data\\\\annotations\\\\Cars371.xml', 'data\\\\annotations\\\\Cars372.xml', 'data\\\\annotations\\\\Cars373.xml', 'data\\\\annotations\\\\Cars374.xml', 'data\\\\annotations\\\\Cars375.xml', 'data\\\\annotations\\\\Cars376.xml', 'data\\\\annotations\\\\Cars377.xml', 'data\\\\annotations\\\\Cars378.xml', 'data\\\\annotations\\\\Cars379.xml', 'data\\\\annotations\\\\Cars38.xml', 'data\\\\annotations\\\\Cars380.xml', 'data\\\\annotations\\\\Cars381.xml', 'data\\\\annotations\\\\Cars382.xml', 'data\\\\annotations\\\\Cars383.xml', 'data\\\\annotations\\\\Cars384.xml', 'data\\\\annotations\\\\Cars385.xml', 'data\\\\annotations\\\\Cars386.xml', 'data\\\\annotations\\\\Cars387.xml', 'data\\\\annotations\\\\Cars388.xml', 'data\\\\annotations\\\\Cars389.xml', 'data\\\\annotations\\\\Cars39.xml', 'data\\\\annotations\\\\Cars390.xml', 'data\\\\annotations\\\\Cars391.xml', 'data\\\\annotations\\\\Cars392.xml', 'data\\\\annotations\\\\Cars393.xml', 'data\\\\annotations\\\\Cars394.xml', 'data\\\\annotations\\\\Cars395.xml', 'data\\\\annotations\\\\Cars396.xml', 'data\\\\annotations\\\\Cars397.xml', 'data\\\\annotations\\\\Cars398.xml', 'data\\\\annotations\\\\Cars399.xml', 'data\\\\annotations\\\\Cars4.xml', 'data\\\\annotations\\\\Cars40.xml', 'data\\\\annotations\\\\Cars400.xml', 'data\\\\annotations\\\\Cars401.xml', 'data\\\\annotations\\\\Cars402.xml', 'data\\\\annotations\\\\Cars403.xml', 'data\\\\annotations\\\\Cars404.xml', 'data\\\\annotations\\\\Cars405.xml', 'data\\\\annotations\\\\Cars406.xml', 'data\\\\annotations\\\\Cars407.xml', 'data\\\\annotations\\\\Cars408.xml', 'data\\\\annotations\\\\Cars409.xml', 'data\\\\annotations\\\\Cars41.xml', 'data\\\\annotations\\\\Cars410.xml', 'data\\\\annotations\\\\Cars411.xml', 'data\\\\annotations\\\\Cars412.xml', 'data\\\\annotations\\\\Cars413.xml', 'data\\\\annotations\\\\Cars414.xml', 'data\\\\annotations\\\\Cars415.xml', 'data\\\\annotations\\\\Cars416.xml', 'data\\\\annotations\\\\Cars417.xml', 'data\\\\annotations\\\\Cars418.xml', 'data\\\\annotations\\\\Cars419.xml', 'data\\\\annotations\\\\Cars42.xml', 'data\\\\annotations\\\\Cars420.xml', 'data\\\\annotations\\\\Cars421.xml', 'data\\\\annotations\\\\Cars422.xml', 'data\\\\annotations\\\\Cars423.xml', 'data\\\\annotations\\\\Cars424.xml', 'data\\\\annotations\\\\Cars425.xml', 'data\\\\annotations\\\\Cars426.xml', 'data\\\\annotations\\\\Cars427.xml', 'data\\\\annotations\\\\Cars428.xml', 'data\\\\annotations\\\\Cars429.xml', 'data\\\\annotations\\\\Cars43.xml', 'data\\\\annotations\\\\Cars430.xml', 'data\\\\annotations\\\\Cars431.xml', 'data\\\\annotations\\\\Cars432.xml', 'data\\\\annotations\\\\Cars44.xml', 'data\\\\annotations\\\\Cars45.xml', 'data\\\\annotations\\\\Cars46.xml', 'data\\\\annotations\\\\Cars47.xml', 'data\\\\annotations\\\\Cars48.xml', 'data\\\\annotations\\\\Cars49.xml', 'data\\\\annotations\\\\Cars5.xml', 'data\\\\annotations\\\\Cars50.xml', 'data\\\\annotations\\\\Cars51.xml', 'data\\\\annotations\\\\Cars52.xml', 'data\\\\annotations\\\\Cars53.xml', 'data\\\\annotations\\\\Cars54.xml', 'data\\\\annotations\\\\Cars55.xml', 'data\\\\annotations\\\\Cars56.xml', 'data\\\\annotations\\\\Cars57.xml', 'data\\\\annotations\\\\Cars58.xml', 'data\\\\annotations\\\\Cars59.xml', 'data\\\\annotations\\\\Cars6.xml', 'data\\\\annotations\\\\Cars60.xml', 'data\\\\annotations\\\\Cars61.xml', 'data\\\\annotations\\\\Cars62.xml', 'data\\\\annotations\\\\Cars63.xml', 'data\\\\annotations\\\\Cars64.xml', 'data\\\\annotations\\\\Cars65.xml', 'data\\\\annotations\\\\Cars66.xml', 'data\\\\annotations\\\\Cars67.xml', 'data\\\\annotations\\\\Cars68.xml', 'data\\\\annotations\\\\Cars69.xml', 'data\\\\annotations\\\\Cars7.xml', 'data\\\\annotations\\\\Cars70.xml', 'data\\\\annotations\\\\Cars71.xml', 'data\\\\annotations\\\\Cars72.xml', 'data\\\\annotations\\\\Cars73.xml', 'data\\\\annotations\\\\Cars74.xml', 'data\\\\annotations\\\\Cars75.xml', 'data\\\\annotations\\\\Cars76.xml', 'data\\\\annotations\\\\Cars77.xml', 'data\\\\annotations\\\\Cars78.xml', 'data\\\\annotations\\\\Cars79.xml', 'data\\\\annotations\\\\Cars8.xml', 'data\\\\annotations\\\\Cars80.xml', 'data\\\\annotations\\\\Cars81.xml', 'data\\\\annotations\\\\Cars82.xml', 'data\\\\annotations\\\\Cars83.xml', 'data\\\\annotations\\\\Cars84.xml', 'data\\\\annotations\\\\Cars85.xml', 'data\\\\annotations\\\\Cars86.xml', 'data\\\\annotations\\\\Cars87.xml', 'data\\\\annotations\\\\Cars88.xml', 'data\\\\annotations\\\\Cars89.xml', 'data\\\\annotations\\\\Cars9.xml', 'data\\\\annotations\\\\Cars90.xml', 'data\\\\annotations\\\\Cars91.xml', 'data\\\\annotations\\\\Cars92.xml', 'data\\\\annotations\\\\Cars93.xml', 'data\\\\annotations\\\\Cars94.xml', 'data\\\\annotations\\\\Cars95.xml', 'data\\\\annotations\\\\Cars96.xml', 'data\\\\annotations\\\\Cars97.xml', 'data\\\\annotations\\\\Cars98.xml', 'data\\\\annotations\\\\Cars99.xml']\n"
     ]
    }
   ],
   "source": [
    "path = glob(\"data\\\\annotations\\\\*.xml\")\n",
    "print(path)"
   ],
   "metadata": {
    "collapsed": false,
    "ExecuteTime": {
     "end_time": "2023-12-28T22:03:55.777064500Z",
     "start_time": "2023-12-28T22:03:55.760099Z"
    }
   },
   "id": "6c2f2584e8f7c27a"
  },
  {
   "cell_type": "code",
   "execution_count": 9,
   "outputs": [],
   "source": [
    "labels_dict = dict(filepath=[], xmin=[], xmax=[], ymin=[], ymax=[])\n",
    "for filename in path:\n",
    "    info = xet.parse(filename)\n",
    "    root = info.getroot()\n",
    "    member_objet = root.find('object')\n",
    "    labels_info = member_objet.find('bndbox')\n",
    "    xmin = int(labels_info.find('xmin').text)\n",
    "    xmax = int(labels_info.find('xmax').text)\n",
    "    ymin = int(labels_info.find('ymin').text)\n",
    "    ymax = int(labels_info.find('ymax').text)\n",
    "    labels_dict['filepath'].append(filename)\n",
    "    labels_dict['xmin'].append(xmin)\n",
    "    labels_dict['xmax'].append(xmax)\n",
    "    labels_dict['ymin'].append(ymin)\n",
    "    labels_dict['ymax'].append(ymax)"
   ],
   "metadata": {
    "collapsed": false,
    "ExecuteTime": {
     "end_time": "2023-12-28T22:09:04.632284Z",
     "start_time": "2023-12-28T22:09:02.250258200Z"
    }
   },
   "id": "9438ebf288fce19a"
  },
  {
   "cell_type": "code",
   "execution_count": 11,
   "outputs": [
    {
     "data": {
      "text/plain": "                         filepath  xmin  xmax  ymin  ymax\n0      data\\annotations\\Cars0.xml   226   419   125   173\n1      data\\annotations\\Cars1.xml   134   262   128   160\n2     data\\annotations\\Cars10.xml   140   303     5   148\n3    data\\annotations\\Cars100.xml   175   214   114   131\n4    data\\annotations\\Cars101.xml   167   240   202   220\n..                            ...   ...   ...   ...   ...\n428   data\\annotations\\Cars95.xml   278   407   182   263\n429   data\\annotations\\Cars96.xml   133   261   126   160\n430   data\\annotations\\Cars97.xml    98   297   102   191\n431   data\\annotations\\Cars98.xml    85   247   196   259\n432   data\\annotations\\Cars99.xml    70   262   198   271\n\n[433 rows x 5 columns]",
      "text/html": "<div>\n<style scoped>\n    .dataframe tbody tr th:only-of-type {\n        vertical-align: middle;\n    }\n\n    .dataframe tbody tr th {\n        vertical-align: top;\n    }\n\n    .dataframe thead th {\n        text-align: right;\n    }\n</style>\n<table border=\"1\" class=\"dataframe\">\n  <thead>\n    <tr style=\"text-align: right;\">\n      <th></th>\n      <th>filepath</th>\n      <th>xmin</th>\n      <th>xmax</th>\n      <th>ymin</th>\n      <th>ymax</th>\n    </tr>\n  </thead>\n  <tbody>\n    <tr>\n      <th>0</th>\n      <td>data\\annotations\\Cars0.xml</td>\n      <td>226</td>\n      <td>419</td>\n      <td>125</td>\n      <td>173</td>\n    </tr>\n    <tr>\n      <th>1</th>\n      <td>data\\annotations\\Cars1.xml</td>\n      <td>134</td>\n      <td>262</td>\n      <td>128</td>\n      <td>160</td>\n    </tr>\n    <tr>\n      <th>2</th>\n      <td>data\\annotations\\Cars10.xml</td>\n      <td>140</td>\n      <td>303</td>\n      <td>5</td>\n      <td>148</td>\n    </tr>\n    <tr>\n      <th>3</th>\n      <td>data\\annotations\\Cars100.xml</td>\n      <td>175</td>\n      <td>214</td>\n      <td>114</td>\n      <td>131</td>\n    </tr>\n    <tr>\n      <th>4</th>\n      <td>data\\annotations\\Cars101.xml</td>\n      <td>167</td>\n      <td>240</td>\n      <td>202</td>\n      <td>220</td>\n    </tr>\n    <tr>\n      <th>...</th>\n      <td>...</td>\n      <td>...</td>\n      <td>...</td>\n      <td>...</td>\n      <td>...</td>\n    </tr>\n    <tr>\n      <th>428</th>\n      <td>data\\annotations\\Cars95.xml</td>\n      <td>278</td>\n      <td>407</td>\n      <td>182</td>\n      <td>263</td>\n    </tr>\n    <tr>\n      <th>429</th>\n      <td>data\\annotations\\Cars96.xml</td>\n      <td>133</td>\n      <td>261</td>\n      <td>126</td>\n      <td>160</td>\n    </tr>\n    <tr>\n      <th>430</th>\n      <td>data\\annotations\\Cars97.xml</td>\n      <td>98</td>\n      <td>297</td>\n      <td>102</td>\n      <td>191</td>\n    </tr>\n    <tr>\n      <th>431</th>\n      <td>data\\annotations\\Cars98.xml</td>\n      <td>85</td>\n      <td>247</td>\n      <td>196</td>\n      <td>259</td>\n    </tr>\n    <tr>\n      <th>432</th>\n      <td>data\\annotations\\Cars99.xml</td>\n      <td>70</td>\n      <td>262</td>\n      <td>198</td>\n      <td>271</td>\n    </tr>\n  </tbody>\n</table>\n<p>433 rows × 5 columns</p>\n</div>"
     },
     "execution_count": 11,
     "metadata": {},
     "output_type": "execute_result"
    }
   ],
   "source": [
    "df = pd.DataFrame(labels_dict)\n",
    "df"
   ],
   "metadata": {
    "collapsed": false,
    "ExecuteTime": {
     "end_time": "2023-12-28T22:09:46.669896600Z",
     "start_time": "2023-12-28T22:09:46.627091600Z"
    }
   },
   "id": "6d30d83799cbd0cb"
  },
  {
   "cell_type": "code",
   "execution_count": 12,
   "outputs": [],
   "source": [
    "labels = df.to_csv('plates.csv',index=False)"
   ],
   "metadata": {
    "collapsed": false,
    "ExecuteTime": {
     "end_time": "2023-12-28T22:11:26.700785600Z",
     "start_time": "2023-12-28T22:11:26.673509500Z"
    }
   },
   "id": "4d80ed1ac9aa203d"
  }
 ],
 "metadata": {
  "kernelspec": {
   "display_name": "Python 3",
   "language": "python",
   "name": "python3"
  },
  "language_info": {
   "codemirror_mode": {
    "name": "ipython",
    "version": 2
   },
   "file_extension": ".py",
   "mimetype": "text/x-python",
   "name": "python",
   "nbconvert_exporter": "python",
   "pygments_lexer": "ipython2",
   "version": "2.7.6"
  }
 },
 "nbformat": 4,
 "nbformat_minor": 5
}
